{
 "cells": [
  {
   "cell_type": "markdown",
   "id": "7a991d82",
   "metadata": {},
   "source": [
    "## Álgebra Lineal Computacional - 2C 2022\n",
    "\n",
    "# Librería Numpy\n",
    "\n",
    "### Arrays\n",
    "\n",
    "En ALC vamos a trabajar sobre todo con _**arrays**_ que nos van a servir para representar vectores o matrices. Para crear arrays es necesario utilizar el módulo **numpy**\n"
   ]
  },
  {
   "cell_type": "code",
   "execution_count": 1,
   "id": "bdabe68d",
   "metadata": {},
   "outputs": [
    {
     "name": "stdout",
     "output_type": "stream",
     "text": [
      "[ 1  0 -1]\n"
     ]
    }
   ],
   "source": [
    "import numpy as np #importa el módulo numpy, con el alias np\n",
    "v  = np.array([1,0,-1]) #genera un array v, con los elementos 1,0 y -1.\n",
    "print(v)"
   ]
  },
  {
   "cell_type": "markdown",
   "id": "371f25c8",
   "metadata": {},
   "source": [
    "$v$ parece una lista, pero en realidad es un array creado a partir de una lista. Esto permite realizar distintas operaciones. Por ejemplo:"
   ]
  },
  {
   "cell_type": "code",
   "execution_count": 2,
   "id": "7d09fbbb",
   "metadata": {},
   "outputs": [
    {
     "name": "stdout",
     "output_type": "stream",
     "text": [
      "w1 = [4 1 1]\n",
      "w2 = [ 3  0 -2]\n",
      "w3 = 1\n"
     ]
    }
   ],
   "source": [
    "u  = np.array([3,1,2])\n",
    "w1 = u+v #suma casillero a casillero\n",
    "w2 = u*v #multiplica casillero a casillero\n",
    "w3 = u@v #realiza el producto interno o escalar\n",
    "print('w1 =',w1)\n",
    "print('w2 =',w2)\n",
    "print('w3 =',w3)"
   ]
  },
  {
   "cell_type": "markdown",
   "id": "0bc6f689",
   "metadata": {},
   "source": [
    "De manera similar se pueden crear matrices, observen que se lista de a filas:"
   ]
  },
  {
   "cell_type": "code",
   "execution_count": 3,
   "id": "def03204",
   "metadata": {},
   "outputs": [
    {
     "name": "stdout",
     "output_type": "stream",
     "text": [
      "[[1 2 3]\n",
      " [4 5 6]]\n"
     ]
    }
   ],
   "source": [
    "A = np.array([[1,2,3],[4,5,6]])\n",
    "print(A)"
   ]
  },
  {
   "cell_type": "markdown",
   "id": "611fedbb",
   "metadata": {},
   "source": [
    "Para conocer la forma de un array, se puede usar el comando $shape$:"
   ]
  },
  {
   "cell_type": "code",
   "execution_count": 4,
   "id": "181c169a",
   "metadata": {},
   "outputs": [
    {
     "name": "stdout",
     "output_type": "stream",
     "text": [
      "(2, 3)\n"
     ]
    }
   ],
   "source": [
    "print(A.shape)"
   ]
  },
  {
   "cell_type": "markdown",
   "id": "91deb218",
   "metadata": {},
   "source": [
    "### Tuplas\n",
    "El comando $shape$ devuelve una **tupla**. Una tupla es similar a una lista: puede contener varios valores, ordenados, y se puede acceder a ellos usando corchetes e índices. Una tupla va encerrada entre paréntesis. Sus elementos no se pueden modificar individualmente.\n",
    "\n",
    "De este modo: A.shape[0] devuelve el número de filas, y A.shape[1] el número de columnas."
   ]
  },
  {
   "cell_type": "code",
   "execution_count": 5,
   "id": "154ed3f3",
   "metadata": {},
   "outputs": [
    {
     "name": "stdout",
     "output_type": "stream",
     "text": [
      "2\n",
      "3\n"
     ]
    }
   ],
   "source": [
    "print(A.shape[0])\n",
    "print(A.shape[1])"
   ]
  },
  {
   "cell_type": "markdown",
   "id": "2c9a62fd",
   "metadata": {},
   "source": [
    "De manera similar:"
   ]
  },
  {
   "cell_type": "code",
   "execution_count": 8,
   "id": "cf89d40d",
   "metadata": {},
   "outputs": [
    {
     "name": "stdout",
     "output_type": "stream",
     "text": [
      "Tam: (2, 3)\n",
      "#filas: 2\n",
      "#cols: 3\n"
     ]
    }
   ],
   "source": [
    "tam = A.shape\n",
    "print('Tam:',tam)\n",
    "print('#filas:',tam[0])\n",
    "print('#cols:',tam[1])"
   ]
  },
  {
   "cell_type": "markdown",
   "id": "e5f42869",
   "metadata": {},
   "source": [
    "### Ejercicio:\n",
    "Definir las siguientes matrices y realizar, de ser posible, las operaciones indicadas:\n",
    "$$A = \\begin{pmatrix} 3 & 2 & 2 \\\\ -1 & 0 & 1 \\\\ -2 & 2 & 4 \\end{pmatrix} \\quad \n",
    "B=\\begin{pmatrix} 0 & 1 & -1 \\\\ 5 & -2 & 1 \\end{pmatrix} \\quad v = (-1, 2, 1)$$\n",
    "Calcular $A.v$ y $B.A$ ¿Qué tamaño tiene B.A?"
   ]
  },
  {
   "cell_type": "markdown",
   "id": "a7cc5e1b",
   "metadata": {},
   "source": [
    "Se definenen las 2 matrices, y el vector v"
   ]
  },
  {
   "cell_type": "code",
   "execution_count": 19,
   "id": "f8b7fb11",
   "metadata": {},
   "outputs": [
    {
     "name": "stdout",
     "output_type": "stream",
     "text": [
      "Matriz A:\n",
      "[[ 3  2  2]\n",
      " [-1  0  1]\n",
      " [-2  2  4]]\n",
      "Matriz B:\n",
      "[[ 0  1 -1]\n",
      " [ 5 -2  1]]\n",
      "Vector v:\n",
      "[-1  2  1]\n"
     ]
    }
   ],
   "source": [
    "#Matriz A\n",
    "A = np.array([[3,2,2],\n",
    "             [-1,0,1],\n",
    "             [-2,2,4]])\n",
    "\n",
    "print('Matriz A:')\n",
    "print(A)\n",
    "\n",
    "#Matriz B\n",
    "B = np.array([[0,1,-1],[5,-2,1]])\n",
    "print('Matriz B:')\n",
    "print(B)\n",
    "\n",
    "#vector v\n",
    "v = np.array([-1,2,1])\n",
    "print('Vector v:')\n",
    "print(v)"
   ]
  },
  {
   "cell_type": "markdown",
   "id": "3e4af63d",
   "metadata": {},
   "source": [
    "Se realizan las operaciones"
   ]
  },
  {
   "cell_type": "code",
   "execution_count": 27,
   "id": "bf0e5848",
   "metadata": {},
   "outputs": [
    {
     "name": "stdout",
     "output_type": "stream",
     "text": [
      "[ 3  2 10]\n",
      "[ 3  2 10]\n"
     ]
    }
   ],
   "source": [
    "#Mutiplico\n",
    "print(A@v)\n",
    "\n",
    "#o sino tambien devuelve lo mismo\n",
    "print(np.dot(A,v)) "
   ]
  },
  {
   "cell_type": "markdown",
   "id": "cba30561",
   "metadata": {},
   "source": [
    "Recordemos que estamos realizando un producto entre matrices. NO es un producto elemento a elemento."
   ]
  },
  {
   "cell_type": "markdown",
   "id": "d3dd6770",
   "metadata": {},
   "source": [
    "Para que las matrices B y A puedan multiplicarse --> las columnas de A deben ser iguales a las filas de B"
   ]
  },
  {
   "cell_type": "code",
   "execution_count": 47,
   "id": "f3fc2b7d",
   "metadata": {},
   "outputs": [
    {
     "name": "stdout",
     "output_type": "stream",
     "text": [
      "[[ 1 -2 -3]\n",
      " [15 12 12]]\n",
      "El tamaño de la matriz C es:\n",
      " 2 filas\n",
      " 3 columnas\n"
     ]
    }
   ],
   "source": [
    "#Producto entre B.A\n",
    "#Dado que nuestra matriz B tiene 2x3 y A 3x3, el resultado sera 2x3\n",
    "C = B@A\n",
    "print(C)\n",
    "print('El tamaño de la matriz C es:\\n',C.shape[0],'filas\\n',C.shape[1],'columnas')"
   ]
  },
  {
   "cell_type": "markdown",
   "id": "2494ac9f",
   "metadata": {},
   "source": [
    "## Sistemas de ecuaciones lineales\n",
    "\n",
    "Para resolver el sistema de ecuaciones lineales $Ax=b$ utilizamos ``np.linalg.solve(A,b)``. ¡OJO! $A$ debe ser una matriz cuadrada."
   ]
  },
  {
   "cell_type": "code",
   "execution_count": 48,
   "id": "b5e945fc",
   "metadata": {},
   "outputs": [
    {
     "data": {
      "text/plain": [
       "array([ 0.66666667, -4.16666667,  2.66666667])"
      ]
     },
     "execution_count": 48,
     "metadata": {},
     "output_type": "execute_result"
    }
   ],
   "source": [
    "np.linalg.solve(A, v)"
   ]
  },
  {
   "cell_type": "markdown",
   "id": "eb6bf4a9",
   "metadata": {},
   "source": [
    "### La función ``row_echelon`` para escalonar matrices.\n",
    "El archivo **row_echelon.py** contiene la función *row_echelon*, que realiza la triangulación de una matriz. El comando %run ejecuta el archivo, de modo que la función está disponible para usar. Es equivalente a copiar y pegar el contenido del archivo dentro de una celda de código."
   ]
  },
  {
   "cell_type": "code",
   "execution_count": 49,
   "id": "a8b8803a",
   "metadata": {},
   "outputs": [],
   "source": [
    "from row_echelon import * #esto importa el contenido del paquete row_echelon: no hace falta usar prefijo. "
   ]
  },
  {
   "cell_type": "markdown",
   "id": "06a78258",
   "metadata": {},
   "source": [
    "Por ejemplo, para resolver el sistema homogéneo:\n",
    "$\\left\\{\n",
    "\\begin{array}{lcc}\n",
    "     x_1-2x_2+x_3 & = & 0\n",
    "  \\\\ 2x_1+x_2-x_3+x_4 & = & 0\n",
    "  \\\\ 5x_2-3x_3+2x_4 & = & 0\n",
    "\\end{array}\n",
    "\\right.$\n",
    "\n",
    "Ingresamos la matriz de coeficientes asociada al sistema y la escalonamos:"
   ]
  },
  {
   "cell_type": "code",
   "execution_count": 50,
   "id": "5aa15f56",
   "metadata": {},
   "outputs": [
    {
     "name": "stdout",
     "output_type": "stream",
     "text": [
      "[[ 1 -2  1  0]\n",
      " [ 2  1 -1  1]\n",
      " [ 0  5 -3  2]]\n",
      "[[ 1.  -2.   1.   0. ]\n",
      " [ 0.   1.  -0.6  0.2]\n",
      " [ 0.   0.   0.   1. ]]\n"
     ]
    }
   ],
   "source": [
    "A = np.array([[1,-2,1,0],[2,1,-1,1],[0,5,-3,2]])\n",
    "print(A)\n",
    "C = row_echelon(A)\n",
    "print(C)"
   ]
  },
  {
   "cell_type": "markdown",
   "id": "589a4cf4",
   "metadata": {},
   "source": [
    "¿Cuál es el rango de $A$? ¿Cómo se clasifica el sistema?"
   ]
  },
  {
   "cell_type": "markdown",
   "id": "d4f01a44",
   "metadata": {},
   "source": [
    "#### Ejemplo con complejos:\n",
    "Ingresemos una matriz con números complejos y escalonémosla. Tener en cuenta que el número $2-i$ se escribe $2-1j$:"
   ]
  },
  {
   "cell_type": "code",
   "execution_count": 51,
   "id": "d1ad3695",
   "metadata": {},
   "outputs": [
    {
     "name": "stdout",
     "output_type": "stream",
     "text": [
      "[[ 1. +0.j   1. -1.j  -1. +1.j   1. +0.j ]\n",
      " [ 0. +0.j   1. -0.j  -0.5+0.j  -0. +0.5j]\n",
      " [ 0. +0.j   0. +0.j   1. +0.j   1. +0.j ]]\n"
     ]
    }
   ],
   "source": [
    "A = np.array([[1+1j,2,-2,1+1j],[1j,1-1j,-1,1+1j],[2,2,-1j,3-2j]])\n",
    "B = row_echelon(A) \n",
    "print(B)"
   ]
  },
  {
   "cell_type": "markdown",
   "id": "62db0bce",
   "metadata": {},
   "source": [
    "## Ejercicio:\n",
    "Ingresen las matrices asociadas a los sistemas vistos en clase y escalonen para corroborar resultados. Utilizamos $np.c\\_ [A,b]$ para formar la matriz ampliada $(A|b)$:"
   ]
  },
  {
   "cell_type": "code",
   "execution_count": null,
   "id": "1f8e0264",
   "metadata": {},
   "outputs": [],
   "source": [
    "A= #completar\n",
    "b= #completar\n",
    "Ab= #armar la matriz ampliada asociada al sistema\n",
    "print()\n",
    "B= #escalonar\n",
    "print()"
   ]
  }
 ],
 "metadata": {
  "kernelspec": {
   "display_name": "Python 3 (ipykernel)",
   "language": "python",
   "name": "python3"
  },
  "language_info": {
   "codemirror_mode": {
    "name": "ipython",
    "version": 3
   },
   "file_extension": ".py",
   "mimetype": "text/x-python",
   "name": "python",
   "nbconvert_exporter": "python",
   "pygments_lexer": "ipython3",
   "version": "3.8.10"
  }
 },
 "nbformat": 4,
 "nbformat_minor": 5
}
