{
 "cells": [
  {
   "cell_type": "markdown",
   "id": "65738c9b",
   "metadata": {},
   "source": [
    "## Álgebra Lineal Computacional - 2C 2022\n",
    "\n",
    "\n",
    "### Arrays\n",
    "\n",
    "Seguimos trabajando con matrices, veremos algunas funciones más, de Python y de Numpy en particular, para luego usar algunos comandos como **for** e **if**.\n"
   ]
  },
  {
   "cell_type": "markdown",
   "id": "fbc91f73",
   "metadata": {},
   "source": [
    "Importemos Numpy e ingresemos las matrices $$A = \\begin{pmatrix} 0 & 1 & 2 \\\\ -3 & -4 & -5 \\\\ 6 & 7 & 8 \\end{pmatrix} \\quad B= \\begin{pmatrix} 1 & 0 \\\\ 0 & -1 \\\\ 2 & 3 \\end{pmatrix}$$\n",
    "para aplicarles algunas funciones:"
   ]
  },
  {
   "cell_type": "code",
   "execution_count": 10,
   "id": "432030eb",
   "metadata": {},
   "outputs": [
    {
     "name": "stdout",
     "output_type": "stream",
     "text": [
      "Matriz A: 3x3\n",
      " [[ 0  1  2]\n",
      " [-3 -4 -5]\n",
      " [ 6  7  8]]\n",
      "Matriz B: 3x2\n",
      " [[ 1  0]\n",
      " [ 0 -1]\n",
      " [ 2  3]]\n"
     ]
    }
   ],
   "source": [
    "import numpy as np\n",
    "\n",
    "#Definimos la matriz A\n",
    "A = np.array([[0,1,2],\n",
    "             [-3,-4,-5],\n",
    "             [6,7,8]])\n",
    "\n",
    "print('Matriz A: 3x3\\n',A)\n",
    "\n",
    "#Definimos la matriz B\n",
    "B = np.array([[1,0],\n",
    "             [0,-1],\n",
    "             [2,3]])\n",
    "\n",
    "print('Matriz B: 3x2\\n',B)"
   ]
  },
  {
   "cell_type": "markdown",
   "id": "a2f85784",
   "metadata": {},
   "source": [
    "### Transpuesta de una matriz\n",
    "\n",
    "Si $A\\in \\mathbb{K}^{m\\times n}$ la matriz transpuesta de $A$ es la matriz $A^t \\in \\mathbb{K}^{n\\times m}$ que tiene por filas a las culumnas de $A$. \n",
    "\n",
    "$(A^t)_{ij}=a_{ji} \\quad \\forall 1\\leq i\\leq n, 1\\leq j \\leq m$.\n",
    "\n",
    "La transpuesta de una matriz la calculamos agregando \".T\" a la matriz. Calculemos $ A^t $ y $ (A.B)^t $. \n",
    "\n",
    "Recordar que multiplicamos matrices con \"@\"."
   ]
  },
  {
   "cell_type": "code",
   "execution_count": 23,
   "id": "ff69f2d0",
   "metadata": {},
   "outputs": [
    {
     "name": "stdout",
     "output_type": "stream",
     "text": [
      "Matriz transpuesta de A:\n",
      " [[ 0 -3  6]\n",
      " [ 1 -4  7]\n",
      " [ 2 -5  8]]\n",
      "Producto : (A.B)**t\n",
      " [[  4 -13  22]\n",
      " [  5 -11  17]]\n"
     ]
    }
   ],
   "source": [
    "#Definimos la matriz transpuesta de A\n",
    "At= A.T\n",
    "print('Matriz transpuesta de A:\\n',At)\n",
    "\n",
    "#Definimos el producto entre la matriz A y B, luego la transponemos\n",
    "ABt= (A@B).T\n",
    "print('Producto : (A.B)**t\\n',ABt)\n"
   ]
  },
  {
   "cell_type": "markdown",
   "id": "dca28f71",
   "metadata": {},
   "source": [
    "Podemos observar que la matriz transpuesta  y $ (A.B)^t $. Tiene dimensiones 2x3. 2 Filas y 3 columnas."
   ]
  },
  {
   "cell_type": "markdown",
   "id": "a6be208c",
   "metadata": {},
   "source": [
    "### Lugares de una matriz\n",
    "\n",
    "En el ejercicio 3 de la práctica 1 practicaron cómo acceder a los distintos elementos de una matriz.\n",
    "\n",
    "**IMPORTANTE: los índices en Python empiezan en 0**\n",
    "\n",
    "Por ejemplo, para acceder al coeficiente $a_{i,j}$ de una matriz $A$ escribimos $A[i-1,j-1]$. \n",
    "\n",
    "Para acceder a una fila de $A$ usamos los dos puntos \":\" que indican \"todo\". Por ejemplo, si queremos la fila $i$ de $A$ escribimos $A[i-1,:]$.\n",
    "\n",
    "## Ejercicio\n",
    "\n",
    "Calcular los siguientes elementos:\n",
    "$a_{2,3}$, la fila 3 de $A$, la columna 1 de $A.B$, $(B^t)_{1,3}$"
   ]
  },
  {
   "cell_type": "code",
   "execution_count": 41,
   "id": "eb3bd462",
   "metadata": {},
   "outputs": [
    {
     "name": "stdout",
     "output_type": "stream",
     "text": [
      "Matriz A\n",
      " [[ 0  1  2]\n",
      " [-3 -4 -5]\n",
      " [ 6  7  8]]\n",
      "Elemento de la matriz A: Fila 2 columna 3: -5\n",
      "\n",
      "Fila 3 de la matriz A: [6 7 8]\n",
      "\n",
      "Matriz A.B\n",
      " [[  4   5]\n",
      " [-13 -11]\n",
      " [ 22  17]]\n",
      "Columna 1 de la matriz A.B: [  4 -13  22]\n",
      "\n",
      "Matriz B transpuesta:\n",
      " [[ 1  0  2]\n",
      " [ 0 -1  3]]\n",
      "Elemento fila 1 columna 3 de Bt 2\n"
     ]
    }
   ],
   "source": [
    "#Fila 2 Columna 3 de la matriz A\n",
    "A23= A[1,2] #o A[2-1,3-1]\n",
    "\n",
    "#Fila 3 de la Matriz A\n",
    "f3A= A[2,:] #o A[3-1,:]\n",
    "\n",
    "\n",
    "#Columna 1 de la Matriz A.B\n",
    "AB = A@B\n",
    "c1AB = AB[:,0]\n",
    "\n",
    "#Elemento de la fila 1 y columna 3\n",
    "Bt = B.T\n",
    "Bt13 = Bt[1-1,3-1]\n",
    "\n",
    "\n",
    "###\n",
    "print('Matriz A\\n',A)\n",
    "print('Elemento de la matriz A: Fila 2 columna 3:',A23)\n",
    "print('')\n",
    "print('Fila 3 de la matriz A:',f3A)\n",
    "print('')\n",
    "print('Matriz A.B\\n',AB)\n",
    "print('Columna 1 de la matriz A.B:',c1AB)\n",
    "print('')\n",
    "print('Matriz B transpuesta:\\n',Bt)\n",
    "print('Elemento fila 1 columna 3 de Bt',Bt13)\n",
    "\n"
   ]
  },
  {
   "cell_type": "markdown",
   "id": "f54d0538",
   "metadata": {},
   "source": [
    "### Inversa y determinante\n",
    "\n",
    "El determinante es una función que se aplica a matrices **cuadradas** y devuelve por resultado un escalar.\n",
    "$$A\\in\\mathbb{K}^{n\\times n}, \\quad det(A)\\in\\mathbb{K}$$\n",
    "Esta función determina si una matriz cuadrada es inversible o no. Recordar que $A \\in \\mathbb{K}^{n\\times n}$ es inversible $\\iff \\quad det(A)\\neq 0$\n",
    "\n",
    "Ambas funciones están en Numpy dentro del paquete \"linalg\". Por ejemplo:"
   ]
  },
  {
   "cell_type": "code",
   "execution_count": 42,
   "id": "43b93d40",
   "metadata": {},
   "outputs": [
    {
     "data": {
      "text/plain": [
       "0.0"
      ]
     },
     "execution_count": 42,
     "metadata": {},
     "output_type": "execute_result"
    }
   ],
   "source": [
    "d=np.linalg.det(A) #¿Es A inversible?\n",
    "d "
   ]
  },
  {
   "cell_type": "markdown",
   "id": "a35f656f",
   "metadata": {},
   "source": [
    "El determinante de la Matriz A es nulo, por lo que no es inversible, hay una combinación lineal. Cuando la matriz no es inversible se dice que es SINGULAR."
   ]
  },
  {
   "cell_type": "code",
   "execution_count": 46,
   "id": "43a5bc0b",
   "metadata": {},
   "outputs": [
    {
     "name": "stdout",
     "output_type": "stream",
     "text": [
      "No es posible realizar el calculo. La matriz es Singular\n"
     ]
    }
   ],
   "source": [
    "try:\n",
    "    Ainv=np.linalg.inv(A) \n",
    "except:\n",
    "    print('No es posible realizar el calculo. La matriz es Singular')"
   ]
  },
  {
   "cell_type": "code",
   "execution_count": 57,
   "id": "e1a2bbe4",
   "metadata": {},
   "outputs": [
    {
     "name": "stdout",
     "output_type": "stream",
     "text": [
      "Last 2 dimensions of the array must be square\n"
     ]
    }
   ],
   "source": [
    "try:\n",
    "    Binv=np.linalg.det(B) #si la matriz no es cuadrada salta un error\n",
    "except np.linalg.LinAlgError as error:\n",
    "    if \"Last 2 dimensions of the array must be square\" in str(error):\n",
    "        print(\"Last 2 dimensions of the array must be square\")"
   ]
  },
  {
   "cell_type": "markdown",
   "id": "3bcdd305",
   "metadata": {},
   "source": [
    "### Funciones útiles y ciclos for:\n",
    "\n",
    "Nos será útil en esta materia la función \"range\" para indicar rangos de valores para nuestras variables.\n",
    "Por ejemplo"
   ]
  },
  {
   "cell_type": "code",
   "execution_count": 59,
   "id": "358477a1",
   "metadata": {},
   "outputs": [
    {
     "name": "stdout",
     "output_type": "stream",
     "text": [
      "0\n",
      "1\n",
      "2\n",
      "3\n",
      "4\n",
      "5\n",
      "6\n",
      "7\n",
      "8\n",
      "9\n",
      "Terminé\n"
     ]
    }
   ],
   "source": [
    "for i in range(10): \n",
    "    print(i)\n",
    "print(\"Terminé\") #Prestar atención a la indentación"
   ]
  },
  {
   "cell_type": "code",
   "execution_count": 60,
   "id": "88f465a8",
   "metadata": {},
   "outputs": [
    {
     "name": "stdout",
     "output_type": "stream",
     "text": [
      "1\n",
      "2\n",
      "3\n",
      "4\n"
     ]
    }
   ],
   "source": [
    "for i in range(1,5):\n",
    "    print(i)"
   ]
  },
  {
   "cell_type": "code",
   "execution_count": 61,
   "id": "16cf533b",
   "metadata": {},
   "outputs": [
    {
     "name": "stdout",
     "output_type": "stream",
     "text": [
      "3\n",
      "5\n",
      "7\n",
      "9\n",
      "11\n",
      "13\n"
     ]
    }
   ],
   "source": [
    "# Va de 2 en 2\n",
    "for i in range(3,15,2):\n",
    "    print(i)"
   ]
  },
  {
   "cell_type": "markdown",
   "id": "40537b49",
   "metadata": {},
   "source": [
    "Calculemos ahora su suma. Por ejemplo, para sumar los números naturales del 1 al 10 inclusive.\n",
    "$$\n",
    "\\sum_{i=0}^{10} i\n",
    "$$\n",
    "Hacemos:"
   ]
  },
  {
   "cell_type": "code",
   "execution_count": 62,
   "id": "a1a7d1bf",
   "metadata": {},
   "outputs": [
    {
     "name": "stdout",
     "output_type": "stream",
     "text": [
      "Suma:  55\n"
     ]
    }
   ],
   "source": [
    "suma = 0\n",
    "for i in range(0, 11):\n",
    "    suma = suma + i\n",
    "print(\"Suma: \", suma)"
   ]
  },
  {
   "cell_type": "markdown",
   "id": "0d52ef20",
   "metadata": {},
   "source": [
    "## Ejercicio: \n",
    "Sumar los cuadrados de los números naturalesdel 5 al 1000 inclusive.\n",
    "$$\n",
    "\\sum_{i=5}^{1000} i^2\n",
    "$$\n",
    "**Resultado**=333833470"
   ]
  },
  {
   "cell_type": "code",
   "execution_count": 66,
   "id": "5b5f7a11",
   "metadata": {},
   "outputs": [
    {
     "name": "stdout",
     "output_type": "stream",
     "text": [
      "El resultado es:  333833470\n"
     ]
    }
   ],
   "source": [
    "suma = 0\n",
    "for i in range(5,1001):\n",
    "    suma = suma + i**2\n",
    "print('El resultado es: ',suma)"
   ]
  },
  {
   "cell_type": "markdown",
   "id": "4d8ad599",
   "metadata": {},
   "source": [
    "### Sumar lugares de una matriz\n",
    "Los elementos de la fila $i$ de una matriz $A \\in \\mathbb{K}^{m\\times n}$ son $F_i=(a_{i1} \\, a_{i2} \\, \\ldots \\, a_{in})$, cuya suma $a_{i1}+a_{i2}+ \\ldots + a_{in}$ se puede escribir usando una sumatoria:\n",
    "$$S_i=\\sum_{j=1}^{n}a_{ij}$$\n",
    "Si queremos sumar **todos** los elementos de una matriz podemos sumar los resultados de las $m$ filas $S_1+S_2+ \\ldots + S_m = \\sum_{i=1}^{m} S_i$, quedando una doble sumatoria:\n",
    "$$S=\\sum_{i=1}^{m} \\sum_{j=1}^{n}a_{ij}$$"
   ]
  },
  {
   "cell_type": "markdown",
   "id": "1c4c4e3d",
   "metadata": {},
   "source": [
    "## Ejercicio\n",
    "\n",
    "Usar un ciclo for para calcular:\n",
    "\n",
    "**a)** La suma de los elementos de la segunda fila de $A$. \n",
    "\n",
    "_La función **np.sum()** realiza la suma, la podemos usar para verificar nuestro resultado._\n",
    "\n",
    "**b)** La traza de la matriz $A$, que es la suma de los elementos de la diagonal principal $tr(A)=\\sum_{i=1}^n a_{ii}$.\n",
    "\n",
    "_La función **np.trace()** realiza la suma, la podemos usar para verificar nuestro resultado._\n",
    "\n",
    "**c)** La suma de todos los elementos de la matriz $B$ (vamos a necesitar dos ciclos, uno por cada sumatoria).\n",
    "\n",
    "_La función **np.sum()** realiza la suma, la podemos usar para verificar nuestro resultado._\n"
   ]
  },
  {
   "cell_type": "code",
   "execution_count": 86,
   "id": "995ca6f5",
   "metadata": {},
   "outputs": [
    {
     "name": "stdout",
     "output_type": "stream",
     "text": [
      "La suma de todos los elementos de la segunda fila de A es: -12\n",
      "Verificando con funcion np.sum:  -12\n"
     ]
    }
   ],
   "source": [
    "#Ciclo for que calcula la suma de todos los elementos de la segunda fila de A\n",
    "suma = 0\n",
    "columnas = A.shape[1]\n",
    "for col in range(columnas):\n",
    "    suma = A[2-1,col] + suma\n",
    "\n",
    "print('La suma de todos los elementos de la segunda fila de A es:',suma)\n",
    "print('Verificando con funcion np.sum: ',np.sum(A[2-1,:]))\n",
    "    "
   ]
  },
  {
   "cell_type": "code",
   "execution_count": 92,
   "id": "58241fa8",
   "metadata": {},
   "outputs": [
    {
     "name": "stdout",
     "output_type": "stream",
     "text": [
      "El valor de la traza calculada con for es: 4\n",
      "El valor de la traza calculada con np.trace 4\n"
     ]
    }
   ],
   "source": [
    "#Ciclo que calcula la traza de la matriz A.\n",
    "#Suma todos los valores de la diagonal\n",
    "\n",
    "suma = 0\n",
    "for i in range(A.shape[1]):\n",
    "    suma = A[i,i] + suma \n",
    "\n",
    "print('El valor de la traza calculada con for es:',suma)\n",
    "print('El valor de la traza calculada con np.trace',np.trace(A))\n"
   ]
  },
  {
   "cell_type": "code",
   "execution_count": 97,
   "id": "fe59516f",
   "metadata": {},
   "outputs": [
    {
     "name": "stdout",
     "output_type": "stream",
     "text": [
      "La suma  de elementos de la matriz B es: 5\n",
      "Calculada con np.sum() es: 5\n"
     ]
    }
   ],
   "source": [
    "#Ciclo que calcula la cantidad de elementos de una matriz B\n",
    "suma = 0\n",
    "for fila in range(3):\n",
    "    for col in range(2):\n",
    "        suma = B[fila,col] + suma\n",
    "\n",
    "print('La suma  de elementos de la matriz B es:',suma)\n",
    "print('Calculada con np.sum() es:',np.sum(B))"
   ]
  },
  {
   "cell_type": "markdown",
   "id": "44472f8f",
   "metadata": {},
   "source": [
    "### Obs: \n",
    "La función **\"len()\"** de python puede ser útil por ejemplo para el ítem b). La función calcula la cantidad de elementos de una objeto. Por ejemplo, "
   ]
  },
  {
   "cell_type": "code",
   "execution_count": 93,
   "id": "db58f831",
   "metadata": {},
   "outputs": [
    {
     "data": {
      "text/plain": [
       "4"
      ]
     },
     "execution_count": 93,
     "metadata": {},
     "output_type": "execute_result"
    }
   ],
   "source": [
    "l=len([1,0,-3,2])\n",
    "l"
   ]
  },
  {
   "cell_type": "markdown",
   "id": "f6a77517",
   "metadata": {},
   "source": [
    "Como las matrices las ingresamos como un conjunto de filas, la función len me devolverá la cantidad de filas de la matriz. Por ejemplo,"
   ]
  },
  {
   "cell_type": "code",
   "execution_count": 104,
   "id": "34798696",
   "metadata": {},
   "outputs": [
    {
     "name": "stdout",
     "output_type": "stream",
     "text": [
      "0\n",
      "-4\n",
      "8\n"
     ]
    }
   ],
   "source": [
    "for i in range(len(A)):\n",
    "    print (A[i,i])  #¿Qué pasa si se lo aplicamos a la matriz B?"
   ]
  },
  {
   "cell_type": "markdown",
   "id": "85fb82c6",
   "metadata": {},
   "source": [
    "Y como última observación, puede ser útil también en este caso, la función **\"np.diag()\"** que devuelve un vector con la diagonal principal de la matriz."
   ]
  },
  {
   "cell_type": "code",
   "execution_count": null,
   "id": "ff5d97d3",
   "metadata": {},
   "outputs": [],
   "source": [
    "dA=np.diag(A)\n",
    "dB=np.diag(B)\n",
    "print(dA)\n",
    "print(dB)"
   ]
  },
  {
   "cell_type": "markdown",
   "id": "62e4aa69",
   "metadata": {},
   "source": [
    "Veamos algunos ejemplos con **if**:"
   ]
  },
  {
   "cell_type": "code",
   "execution_count": 98,
   "id": "b859c590",
   "metadata": {},
   "outputs": [
    {
     "name": "stdout",
     "output_type": "stream",
     "text": [
      "15  es mayor que  5\n"
     ]
    }
   ],
   "source": [
    "a = 15\n",
    "b = 5\n",
    "if(a>b):\n",
    "    print(a, \" es mayor que \", b)"
   ]
  },
  {
   "cell_type": "code",
   "execution_count": 99,
   "id": "8d367541",
   "metadata": {},
   "outputs": [
    {
     "name": "stdout",
     "output_type": "stream",
     "text": [
      "15  es mayor que  5\n"
     ]
    }
   ],
   "source": [
    "# if - else\n",
    "a = 15\n",
    "b = 5\n",
    "if(a>b):\n",
    "    print(a, \" es mayor que \", b)\n",
    "else:\n",
    "    print(a, \" no es mayor que \", b)"
   ]
  },
  {
   "cell_type": "code",
   "execution_count": null,
   "id": "de870bc1",
   "metadata": {},
   "outputs": [],
   "source": [
    "# if - elif - else\n",
    "a = 5\n",
    "b = 5\n",
    "if(a>b):\n",
    "    print(a, \" es mayor que \", b)\n",
    "elif (b>a):\n",
    "    print(b, \" es mayor que \", a)\n",
    "else:\n",
    "    print(a, \" es igual a \", b)"
   ]
  },
  {
   "cell_type": "markdown",
   "id": "49a88396",
   "metadata": {},
   "source": [
    "## Ejercicios\n",
    "\n",
    "**a)** Calcular la suma de los elementos arriba de la diagonal de $A$, o sea, calcular $$\\sum_{i=1}^{m}\\sum_{j>i}a_{ij}$$\n",
    "**b)** Calcular el producto de los elementos no nulos de la matriz $A$."
   ]
  },
  {
   "cell_type": "markdown",
   "id": "fa571105",
   "metadata": {},
   "source": [
    "### Item A\n"
   ]
  },
  {
   "cell_type": "code",
   "execution_count": 132,
   "id": "e9b2c914",
   "metadata": {},
   "outputs": [
    {
     "name": "stdout",
     "output_type": "stream",
     "text": [
      "La suma de los valores por encima de la diagonal usando for es: -2\n",
      "La suma de los valores usando np.sum(np.triu(A,1)) es: -2\n"
     ]
    }
   ],
   "source": [
    "#Ciclo que calcula la suma de los elementos por encima de la diagonal\n",
    "\n",
    "suma = 0\n",
    "for fila in range(A.shape[0]):\n",
    "    for col in range(A.shape[1]):\n",
    "        #Si el indice de la columna es mayor que el indice de fila realiza la suma\n",
    "        if col > fila:\n",
    "            suma = A[fila,col] + suma\n",
    "\n",
    "print('La suma de los valores por encima de la diagonal usando for es:', suma)\n",
    "print('La suma de los valores usando np.sum(np.triu(A,1)) es:',np.sum(np.triu(A,1)))\n"
   ]
  },
  {
   "cell_type": "markdown",
   "id": "58343834",
   "metadata": {},
   "source": [
    "### Item B"
   ]
  },
  {
   "cell_type": "code",
   "execution_count": 135,
   "id": "3b22ceba",
   "metadata": {},
   "outputs": [
    {
     "name": "stdout",
     "output_type": "stream",
     "text": [
      "El producto de los elementos no nulos usando for de la matriz A es:  -40320\n"
     ]
    }
   ],
   "source": [
    "#Ciclo for que calcula el producto de los elementos no nulos de la matriz\n",
    "producto = 1\n",
    "for fila in range(A.shape[0]):\n",
    "    for col in range(A.shape[1]):\n",
    "        if A[fila,col] != 0:\n",
    "            producto = A[fila,col] * producto\n",
    "print('El producto de los elementos no nulos usando for de la matriz A es: ',producto)\n"
   ]
  },
  {
   "cell_type": "code",
   "execution_count": 161,
   "id": "7540e08a",
   "metadata": {},
   "outputs": [
    {
     "name": "stdout",
     "output_type": "stream",
     "text": [
      "-40320\n"
     ]
    }
   ],
   "source": [
    "#Usando funciones\n",
    "\n",
    "#Obtengo los indices de los elementos no nulos\n",
    "#Devuelve dos arrays con los indices de filas y columnas \n",
    "elem_no_nulos = np.nonzero(A) \n",
    "\n",
    "#Realizo la multiplicacion de los elementos no nulos y devuelvo por pantalla\n",
    "print(np.prod(A[elem_no_nulos]))"
   ]
  },
  {
   "cell_type": "markdown",
   "id": "cf5f17f7",
   "metadata": {},
   "source": [
    "## Otra forma de indexar y seleccionar valores de una matriz"
   ]
  },
  {
   "cell_type": "code",
   "execution_count": 157,
   "id": "49d6229c",
   "metadata": {},
   "outputs": [
    {
     "data": {
      "text/plain": [
       "array([-5,  8])"
      ]
     },
     "execution_count": 157,
     "metadata": {},
     "output_type": "execute_result"
    }
   ],
   "source": [
    "A[np.array([1,2]),np.array([2,2])]"
   ]
  },
  {
   "cell_type": "markdown",
   "id": "257a301a",
   "metadata": {},
   "source": [
    "### Definir funciones\n",
    "\n",
    "Por último, definamos algunas funciones. **¡¡En los \"videos preliminares\" en el campus tienen más detalles!!**\n",
    "\n",
    "Por ejemplo:"
   ]
  },
  {
   "cell_type": "code",
   "execution_count": null,
   "id": "a345d8f8",
   "metadata": {},
   "outputs": [],
   "source": [
    "def suma(a,b):\n",
    "    c = a + b\n",
    "    return(c)"
   ]
  },
  {
   "cell_type": "code",
   "execution_count": null,
   "id": "a5ce947c",
   "metadata": {},
   "outputs": [],
   "source": [
    "suma(3,12)"
   ]
  },
  {
   "cell_type": "markdown",
   "id": "4461a844",
   "metadata": {},
   "source": [
    "Otro ejemplo:"
   ]
  },
  {
   "cell_type": "code",
   "execution_count": null,
   "id": "7654a00c",
   "metadata": {},
   "outputs": [],
   "source": [
    "def comparar(a, b):\n",
    "    if(a>b):\n",
    "        print(a, \" es mayor que \", b)\n",
    "    elif (b>a):\n",
    "        print(b, \" es mayor que \", a)\n",
    "    else:\n",
    "        print(a, \" es igual a \", b)"
   ]
  },
  {
   "cell_type": "code",
   "execution_count": null,
   "id": "54460c77",
   "metadata": {},
   "outputs": [],
   "source": [
    "comparar(3,12)"
   ]
  },
  {
   "cell_type": "markdown",
   "id": "89cfb375",
   "metadata": {},
   "source": [
    "## Ejercicios\n",
    "\n",
    "**a)** Realizar el Ejercicio 14 de la Práctica 1.\n",
    "\n",
    "**b)** Escribir un programa que reciba un vector $v$ en $R^n$ y devuelva cuántas coordenadas de $v$ son mayores que 5.\n",
    "\n",
    "_Obs: Recordar que puede ser útil la función \"len\" a la hora de usar \"range\" para recorrer todas las componentes de una lista."
   ]
  },
  {
   "cell_type": "code",
   "execution_count": null,
   "id": "2bce8878",
   "metadata": {},
   "outputs": [],
   "source": [
    "#completar"
   ]
  }
 ],
 "metadata": {
  "kernelspec": {
   "display_name": "Python 3 (ipykernel)",
   "language": "python",
   "name": "python3"
  },
  "language_info": {
   "codemirror_mode": {
    "name": "ipython",
    "version": 3
   },
   "file_extension": ".py",
   "mimetype": "text/x-python",
   "name": "python",
   "nbconvert_exporter": "python",
   "pygments_lexer": "ipython3",
   "version": "3.8.10"
  }
 },
 "nbformat": 4,
 "nbformat_minor": 5
}
